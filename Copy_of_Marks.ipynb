{
  "nbformat": 4,
  "nbformat_minor": 0,
  "metadata": {
    "colab": {
      "provenance": [],
      "authorship_tag": "ABX9TyNhGXuW7cdb6jF9Y69eqDMz",
      "include_colab_link": true
    },
    "kernelspec": {
      "name": "python3",
      "display_name": "Python 3"
    },
    "language_info": {
      "name": "python"
    }
  },
  "cells": [
    {
      "cell_type": "markdown",
      "metadata": {
        "id": "view-in-github",
        "colab_type": "text"
      },
      "source": [
        "<a href=\"https://colab.research.google.com/github/vaishnavi-Allaprthi/ML/blob/main/Copy_of_Marks.ipynb\" target=\"_parent\"><img src=\"https://colab.research.google.com/assets/colab-badge.svg\" alt=\"Open In Colab\"/></a>"
      ]
    },
    {
      "cell_type": "code",
      "execution_count": null,
      "metadata": {
        "id": "-jTxBs7cDa7r"
      },
      "outputs": [],
      "source": [
        "\n",
        "import csv\n",
        "\n",
        "# Sample student marks data\n",
        "students = [\n",
        "    {\"Name\": \"Alice\", \"Maths\": 85, \"English\": 92, \"Science\": 78},\n",
        "    {\"Name\": \"Bob\", \"Maths\": 72, \"English\": 81, \"Science\": 88},\n",
        "    {\"Name\": \"Charlie\", \"Maths\": 95, \"English\": 89, \"Science\": 92},\n",
        "    {\"Name\": \"David\", \"Maths\": 78, \"English\": 74, \"Science\": 81},\n",
        "]\n",
        "\n",
        "# Function to print student marks\n",
        "def print_student_marks():\n",
        "    print(\"Student Marks:\")\n",
        "    print(f\"{'Name':<10}{'Maths':<10}{'English':<10}{'Science':<10}\")\n",
        "    print(\"-\" * 40)\n",
        "\n",
        "    for student in students:\n",
        "        print(f\"{student['Name']:<10}{student['Maths']:<10}{student['English']:<10}{student['Science']:<10}\")\n",
        "\n",
        "# Function to write the student data into a CSV file\n",
        "def write_to_csv(filename):\n",
        "    # Define CSV fieldnames\n",
        "    fieldnames = ['Name', 'Maths', 'English', 'Science']\n",
        "\n",
        "    # Open the file in write mode\n",
        "    with open(filename, mode='w', newline='') as file:\n",
        "        writer = csv.DictWriter(file, fieldnames=fieldnames)\n",
        "\n",
        "        # Write header (fieldnames)\n",
        "        writer.writeheader()\n",
        "\n",
        "        # Write data rows\n",
        "        for student in students:\n",
        "            writer.writerow(student)\n",
        "\n",
        "    print(f\"\\nData has been written to {filename}\")\n",
        "\n",
        "# Main function to call both methods\n",
        "def main():\n",
        "    # Print the student marks\n",
        "    print_student_marks()\n",
        "\n",
        "    # Save the data into a CSV file\n",
        "    write_to_csv('student_marks.csv')\n",
        "\n",
        "# Execute the main function\n",
        "if __name__ == \"__main__\":\n",
        "    main()\n"
      ]
    }
  ]
}